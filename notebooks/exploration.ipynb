{
 "cells": [
  {
   "cell_type": "code",
   "execution_count": 1,
   "id": "dabb4c47",
   "metadata": {},
   "outputs": [
    {
     "name": "stderr",
     "output_type": "stream",
     "text": [
      "\u001b[32m\u001b[1m  Activating\u001b[22m\u001b[39m project at `c:\\Users\\Victo\\Documents\\Productive\\School\\University of Amsterdam\\Computational Science Hackathon\\ComputationalScienceHackathon`\n"
     ]
    }
   ],
   "source": [
    "using Pkg\n",
    "Pkg.activate(\"..\")\n",
    "using ComputationalScienceHackathon\n"
   ]
  },
  {
   "cell_type": "code",
   "execution_count": 2,
   "id": "10a01609",
   "metadata": {},
   "outputs": [
    {
     "name": "stdout",
     "output_type": "stream",
     "text": [
      "Solver Source File\n",
      "Value: 1\n"
     ]
    },
    {
     "data": {
      "text/plain": [
       "1"
      ]
     },
     "metadata": {},
     "output_type": "display_data"
    }
   ],
   "source": [
    "solver()"
   ]
  },
  {
   "cell_type": "code",
   "execution_count": 3,
   "id": "74e21125",
   "metadata": {},
   "outputs": [
    {
     "ename": "BoundsError",
     "evalue": "BoundsError: attempt to access 100×10 Matrix{Float64} at index [0, 1]",
     "output_type": "error",
     "traceback": [
      "BoundsError: attempt to access 100×10 Matrix{Float64} at index [0, 1]\n",
      "\n",
      "Stacktrace:\n",
      " [1] getindex\n",
      "   @ .\\essentials.jl:14 [inlined]\n",
      " [2] jacobi(c_old::Matrix{Float64}, c_new::Matrix{Float64}, max_iter::Int64, n_steps::Int64, tolerance::Float64)\n",
      "   @ ComputationalScienceHackathon c:\\Users\\Victo\\Documents\\Productive\\School\\University of Amsterdam\\Computational Science Hackathon\\ComputationalScienceHackathon\\src\\solver.jl:26\n",
      " [3] solve_jacobi(max_iter::Int64, n_steps::Int64, tolerance::Float64)\n",
      "   @ ComputationalScienceHackathon c:\\Users\\Victo\\Documents\\Productive\\School\\University of Amsterdam\\Computational Science Hackathon\\ComputationalScienceHackathon\\src\\solver.jl:15\n",
      " [4] top-level scope\n",
      "   @ c:\\Users\\Victo\\Documents\\Productive\\School\\University of Amsterdam\\Computational Science Hackathon\\ComputationalScienceHackathon\\notebooks\\jl_notebook_cell_df34fa98e69747e1a8f8a730347b8e2f_W2sZmlsZQ==.jl:4"
     ]
    }
   ],
   "source": [
    "max_iter = 1000\n",
    "n_steps = 100\n",
    "tolerance = 1e-6\n",
    "solve_jacobi(max_iter, n_steps, tolerance)"
   ]
  },
  {
   "cell_type": "code",
   "execution_count": null,
   "id": "9b355647",
   "metadata": {},
   "outputs": [],
   "source": []
  }
 ],
 "metadata": {
  "kernelspec": {
   "display_name": "Julia 1.10.5",
   "language": "julia",
   "name": "julia-1.10"
  },
  "language_info": {
   "file_extension": ".jl",
   "mimetype": "application/julia",
   "name": "julia",
   "version": "1.10.5"
  }
 },
 "nbformat": 4,
 "nbformat_minor": 5
}
